{
 "cells": [
  {
   "cell_type": "markdown",
   "id": "d3176f65-669c-4811-9014-75c9601f90c5",
   "metadata": {},
   "source": [
    "# Data Science Tools and Ecosystem"
   ]
  },
  {
   "cell_type": "markdown",
   "id": "a9ad8dbc-1af1-48fe-a712-a53e90f8aaf2",
   "metadata": {},
   "source": [
    "In this notebook, Data Science Tools and Ecosystem are summarized."
   ]
  },
  {
   "cell_type": "markdown",
   "id": "cb8bac8b-a8c6-4154-8c75-ac9bf4a9aecd",
   "metadata": {},
   "source": [
    "Some of the popular languages that Data Scientists use are:\n",
    "1. Python\n",
    "2. R\n",
    "3. Scala"
   ]
  },
  {
   "cell_type": "markdown",
   "id": "d465eab9-04ea-460d-8893-61a0e2f0311f",
   "metadata": {},
   "source": [
    "| Data Science Tools      |\n",
    "|-------------------------|\n",
    "| Jupyter Notebook        |\n",
    "| RStudio                 |\n",
    "| Apache Zeppelin         |"
   ]
  },
  {
   "cell_type": "markdown",
   "id": "0ba58cbb-9c4e-4277-8d9b-57b3006104d9",
   "metadata": {},
   "source": [
    "Some of the commonly used libraries used by Data Scientists include:\n",
    "\n",
    "1. NumPy\n",
    "2. Pandas\n",
    "3. Matplotlib\n",
    "4. Scikit-learn\n",
    "5. TensorFlow"
   ]
  },
  {
   "cell_type": "markdown",
   "id": "e488432f-9b99-445a-bd60-4d135d2fde25",
   "metadata": {},
   "source": [
    "### Below are a few examples of evaluating arithmetic expressions in Python\n",
    "\n",
    "- `3 + 5` results in **8**\n",
    "- `10 - 4` results in **6**\n",
    "- `6 * 7` results in **42**"
   ]
  },
  {
   "cell_type": "code",
   "execution_count": 3,
   "id": "99ca1830-43f1-4d77-bebd-60f7c221b723",
   "metadata": {},
   "outputs": [
    {
     "data": {
      "text/plain": [
       "17"
      ]
     },
     "execution_count": 3,
     "metadata": {},
     "output_type": "execute_result"
    }
   ],
   "source": [
    "# This is a simple arithmetic expression to multiply then add integers\n",
    "(3 * 4) + 5"
   ]
  },
  {
   "cell_type": "code",
   "execution_count": 4,
   "id": "8af908bc-6ac9-4b3b-bf2f-9e0f954290c8",
   "metadata": {},
   "outputs": [
    {
     "data": {
      "text/plain": [
       "3.3333333333333335"
      ]
     },
     "execution_count": 4,
     "metadata": {},
     "output_type": "execute_result"
    }
   ],
   "source": [
    "# This will convert 200 minutes to hours by dividing by 60\n",
    "200 / 60"
   ]
  },
  {
   "cell_type": "markdown",
   "id": "8c1b52a8-b8d0-4e17-aa11-bd4858f4849d",
   "metadata": {},
   "source": [
    "**Objectives:**\n",
    "\n",
    "- List popular languages for Data Science\n",
    "- Create tables in a Jupyter Notebook using Markdown and Python\n",
    "- List common Data Science libraries\n",
    "- Perform basic arithmetic operations in Python\n",
    "- Convert units (e.g. minutes to hours) using Python expressions"
   ]
  },
  {
   "cell_type": "markdown",
   "id": "07d77ca9-0d1d-4403-8d2c-acc67606f8ad",
   "metadata": {},
   "source": [
    "## Author\n",
    "\n",
    "Ali Asiri"
   ]
  },
  {
   "cell_type": "code",
   "execution_count": null,
   "id": "d98c150f-b505-455b-81fb-4969c4687539",
   "metadata": {},
   "outputs": [],
   "source": []
  }
 ],
 "metadata": {
  "kernelspec": {
   "display_name": "Python [conda env:Ali-practice]",
   "language": "python",
   "name": "conda-env-Ali-practice-py"
  },
  "language_info": {
   "codemirror_mode": {
    "name": "ipython",
    "version": 3
   },
   "file_extension": ".py",
   "mimetype": "text/x-python",
   "name": "python",
   "nbconvert_exporter": "python",
   "pygments_lexer": "ipython3",
   "version": "3.13.5"
  }
 },
 "nbformat": 4,
 "nbformat_minor": 5
}
